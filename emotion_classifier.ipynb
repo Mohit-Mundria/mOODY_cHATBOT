{
  "cells": [
    {
      "cell_type": "code",
      "execution_count": 37,
      "id": "2bcf93a4",
      "metadata": {
        "id": "2bcf93a4"
      },
      "outputs": [],
      "source": [
        "import pandas as pd\n",
        "import numpy as np"
      ]
    },
    {
      "cell_type": "code",
      "execution_count": 38,
      "id": "d665610a",
      "metadata": {
        "colab": {
          "base_uri": "https://localhost:8080/",
          "height": 206
        },
        "id": "d665610a",
        "outputId": "cca7155e-ce1a-4968-fb1d-b2c6d4161028"
      },
      "outputs": [
        {
          "data": {
            "text/html": [
              "<div>\n",
              "<style scoped>\n",
              "    .dataframe tbody tr th:only-of-type {\n",
              "        vertical-align: middle;\n",
              "    }\n",
              "\n",
              "    .dataframe tbody tr th {\n",
              "        vertical-align: top;\n",
              "    }\n",
              "\n",
              "    .dataframe thead th {\n",
              "        text-align: right;\n",
              "    }\n",
              "</style>\n",
              "<table border=\"1\" class=\"dataframe\">\n",
              "  <thead>\n",
              "    <tr style=\"text-align: right;\">\n",
              "      <th></th>\n",
              "      <th>text</th>\n",
              "      <th>label</th>\n",
              "    </tr>\n",
              "  </thead>\n",
              "  <tbody>\n",
              "    <tr>\n",
              "      <th>0</th>\n",
              "      <td>i just feel really helpless and heavy hearted</td>\n",
              "      <td>4</td>\n",
              "    </tr>\n",
              "    <tr>\n",
              "      <th>1</th>\n",
              "      <td>ive enjoyed being able to slouch about relax a...</td>\n",
              "      <td>0</td>\n",
              "    </tr>\n",
              "    <tr>\n",
              "      <th>2</th>\n",
              "      <td>i gave up my internship with the dmrg and am f...</td>\n",
              "      <td>4</td>\n",
              "    </tr>\n",
              "    <tr>\n",
              "      <th>3</th>\n",
              "      <td>i dont know i feel so lost</td>\n",
              "      <td>0</td>\n",
              "    </tr>\n",
              "    <tr>\n",
              "      <th>4</th>\n",
              "      <td>i am a kindergarten teacher and i am thoroughl...</td>\n",
              "      <td>4</td>\n",
              "    </tr>\n",
              "  </tbody>\n",
              "</table>\n",
              "</div>"
            ],
            "text/plain": [
              "                                                text  label\n",
              "0      i just feel really helpless and heavy hearted      4\n",
              "1  ive enjoyed being able to slouch about relax a...      0\n",
              "2  i gave up my internship with the dmrg and am f...      4\n",
              "3                         i dont know i feel so lost      0\n",
              "4  i am a kindergarten teacher and i am thoroughl...      4"
            ]
          },
          "execution_count": 38,
          "metadata": {},
          "output_type": "execute_result"
        }
      ],
      "source": [
        "dataset=pd.read_csv(r\"D:\\End to end project\\Moody_Chatbot\\mOODY_cHATBOT\\emotions.csv\\emotions.csv\")\n",
        "dataset.head()"
      ]
    },
    {
      "cell_type": "code",
      "execution_count": 39,
      "id": "88e6f3d1",
      "metadata": {
        "colab": {
          "base_uri": "https://localhost:8080/"
        },
        "id": "88e6f3d1",
        "outputId": "455bafd6-f752-429e-ba88-b180ce5ae0ea"
      },
      "outputs": [
        {
          "name": "stdout",
          "output_type": "stream",
          "text": [
            "<class 'pandas.core.frame.DataFrame'>\n",
            "RangeIndex: 416809 entries, 0 to 416808\n",
            "Data columns (total 2 columns):\n",
            " #   Column  Non-Null Count   Dtype \n",
            "---  ------  --------------   ----- \n",
            " 0   text    416809 non-null  object\n",
            " 1   label   416809 non-null  int64 \n",
            "dtypes: int64(1), object(1)\n",
            "memory usage: 6.4+ MB\n"
          ]
        }
      ],
      "source": [
        "dataset.info()"
      ]
    },
    {
      "cell_type": "code",
      "execution_count": 40,
      "id": "bd50569d",
      "metadata": {
        "colab": {
          "base_uri": "https://localhost:8080/"
        },
        "id": "bd50569d",
        "outputId": "c9ba516d-1910-4fc2-baed-69eee0927303"
      },
      "outputs": [
        {
          "name": "stdout",
          "output_type": "stream",
          "text": [
            "text     0\n",
            "label    0\n",
            "dtype: int64\n",
            "text     0\n",
            "label    0\n",
            "dtype: int64\n"
          ]
        }
      ],
      "source": [
        "print(dataset.isnull().sum())\n",
        "dataset.dropna(inplace=True)\n",
        "print(dataset.isnull().sum())\n",
        "for i in dataset.duplicated():\n",
        "    if i==\"True\":\n",
        "        print(i)\n"
      ]
    },
    {
      "cell_type": "code",
      "execution_count": 41,
      "id": "c62618f2",
      "metadata": {
        "id": "c62618f2"
      },
      "outputs": [],
      "source": [
        "# Here we lowercase our text column\n",
        "dataset['text']=dataset['text'].str.lower()"
      ]
    },
    {
      "cell_type": "code",
      "execution_count": 42,
      "id": "4e3338db",
      "metadata": {
        "colab": {
          "base_uri": "https://localhost:8080/",
          "height": 458
        },
        "id": "4e3338db",
        "outputId": "bf43edd7-e08c-4178-b624-aad2bc93df6b"
      },
      "outputs": [
        {
          "data": {
            "text/plain": [
              "0         None\n",
              "1         None\n",
              "2         None\n",
              "3         None\n",
              "4         None\n",
              "          ... \n",
              "416804    None\n",
              "416805    None\n",
              "416806    None\n",
              "416807    None\n",
              "416808    None\n",
              "Name: text, Length: 416809, dtype: object"
            ]
          },
          "execution_count": 42,
          "metadata": {},
          "output_type": "execute_result"
        }
      ],
      "source": [
        "# Here we remove the punctuation from the text\n",
        "import string, time\n",
        "exclude=string.punctuation\n",
        "def remove_puch(text):\n",
        "    text.translate(str.maketrans('','',exclude))\n",
        "dataset['text'].apply(remove_puch)"
      ]
    },
    {
      "cell_type": "code",
      "execution_count": 43,
      "id": "1KJMZZBbD237",
      "metadata": {
        "colab": {
          "base_uri": "https://localhost:8080/",
          "height": 423
        },
        "id": "1KJMZZBbD237",
        "outputId": "5ff7dc8e-b16e-46d5-f0dd-383a612e7dda"
      },
      "outputs": [
        {
          "data": {
            "text/html": [
              "<div>\n",
              "<style scoped>\n",
              "    .dataframe tbody tr th:only-of-type {\n",
              "        vertical-align: middle;\n",
              "    }\n",
              "\n",
              "    .dataframe tbody tr th {\n",
              "        vertical-align: top;\n",
              "    }\n",
              "\n",
              "    .dataframe thead th {\n",
              "        text-align: right;\n",
              "    }\n",
              "</style>\n",
              "<table border=\"1\" class=\"dataframe\">\n",
              "  <thead>\n",
              "    <tr style=\"text-align: right;\">\n",
              "      <th></th>\n",
              "      <th>text</th>\n",
              "      <th>label</th>\n",
              "    </tr>\n",
              "  </thead>\n",
              "  <tbody>\n",
              "    <tr>\n",
              "      <th>0</th>\n",
              "      <td>i just feel really helpless and heavy hearted</td>\n",
              "      <td>4</td>\n",
              "    </tr>\n",
              "    <tr>\n",
              "      <th>1</th>\n",
              "      <td>ive enjoyed being able to slouch about relax a...</td>\n",
              "      <td>0</td>\n",
              "    </tr>\n",
              "    <tr>\n",
              "      <th>2</th>\n",
              "      <td>i gave up my internship with the dmrg and am f...</td>\n",
              "      <td>4</td>\n",
              "    </tr>\n",
              "    <tr>\n",
              "      <th>3</th>\n",
              "      <td>i dont know i feel so lost</td>\n",
              "      <td>0</td>\n",
              "    </tr>\n",
              "    <tr>\n",
              "      <th>4</th>\n",
              "      <td>i am a kindergarten teacher and i am thoroughl...</td>\n",
              "      <td>4</td>\n",
              "    </tr>\n",
              "    <tr>\n",
              "      <th>...</th>\n",
              "      <td>...</td>\n",
              "      <td>...</td>\n",
              "    </tr>\n",
              "    <tr>\n",
              "      <th>416804</th>\n",
              "      <td>i feel like telling these horny devils to find...</td>\n",
              "      <td>2</td>\n",
              "    </tr>\n",
              "    <tr>\n",
              "      <th>416805</th>\n",
              "      <td>i began to realize that when i was feeling agi...</td>\n",
              "      <td>3</td>\n",
              "    </tr>\n",
              "    <tr>\n",
              "      <th>416806</th>\n",
              "      <td>i feel very curious be why previous early dawn...</td>\n",
              "      <td>5</td>\n",
              "    </tr>\n",
              "    <tr>\n",
              "      <th>416807</th>\n",
              "      <td>i feel that becuase of the tyranical nature of...</td>\n",
              "      <td>3</td>\n",
              "    </tr>\n",
              "    <tr>\n",
              "      <th>416808</th>\n",
              "      <td>i think that after i had spent some time inves...</td>\n",
              "      <td>5</td>\n",
              "    </tr>\n",
              "  </tbody>\n",
              "</table>\n",
              "<p>416809 rows × 2 columns</p>\n",
              "</div>"
            ],
            "text/plain": [
              "                                                     text  label\n",
              "0           i just feel really helpless and heavy hearted      4\n",
              "1       ive enjoyed being able to slouch about relax a...      0\n",
              "2       i gave up my internship with the dmrg and am f...      4\n",
              "3                              i dont know i feel so lost      0\n",
              "4       i am a kindergarten teacher and i am thoroughl...      4\n",
              "...                                                   ...    ...\n",
              "416804  i feel like telling these horny devils to find...      2\n",
              "416805  i began to realize that when i was feeling agi...      3\n",
              "416806  i feel very curious be why previous early dawn...      5\n",
              "416807  i feel that becuase of the tyranical nature of...      3\n",
              "416808  i think that after i had spent some time inves...      5\n",
              "\n",
              "[416809 rows x 2 columns]"
            ]
          },
          "execution_count": 43,
          "metadata": {},
          "output_type": "execute_result"
        }
      ],
      "source": [
        "dataset"
      ]
    },
    {
      "cell_type": "code",
      "execution_count": 44,
      "id": "432e5209",
      "metadata": {
        "colab": {
          "base_uri": "https://localhost:8080/",
          "height": 238
        },
        "id": "432e5209",
        "outputId": "a276145c-57d1-4fa2-bfe8-8be887002bdf"
      },
      "outputs": [
        {
          "name": "stderr",
          "output_type": "stream",
          "text": [
            "[nltk_data] Downloading package stopwords to\n",
            "[nltk_data]     C:\\Users\\ACER\\AppData\\Roaming\\nltk_data...\n",
            "[nltk_data]   Package stopwords is already up-to-date!\n"
          ]
        },
        {
          "data": {
            "text/plain": [
              "pandas.core.series.Series"
            ]
          },
          "execution_count": 44,
          "metadata": {},
          "output_type": "execute_result"
        }
      ],
      "source": [
        "from nltk.corpus import stopwords\n",
        "import nltk\n",
        "nltk.download('stopwords')\n",
        "words=stopwords.words('english')\n",
        "\n",
        "def remove_stopword(text):\n",
        "    new_text=[]\n",
        "    for word in text.split():\n",
        "        if word in words:\n",
        "            new_text.append(\" \")\n",
        "        else:\n",
        "            new_text.append(word)\n",
        "    x=new_text[ : ]\n",
        "    new_text.clear()\n",
        "    return \" \".join(x)\n",
        "\n",
        "type(dataset['text'])"
      ]
    },
    {
      "cell_type": "code",
      "execution_count": 45,
      "id": "51eaee2c",
      "metadata": {
        "id": "51eaee2c"
      },
      "outputs": [],
      "source": [
        "# Here we perfrom stemming to text to convert the text to their root words\n",
        "from nltk.stem.porter import PorterStemmer\n",
        "ps=PorterStemmer()\n",
        "def stemmer(text):\n",
        "  stem_list=[]\n",
        "  for word in text.split():\n",
        "    stem_list.append(ps.stem(word))\n",
        "  return \" \".join(stem_list)\n",
        "dataset['text']=dataset['text'].apply(stemmer)\n"
      ]
    },
    {
      "cell_type": "code",
      "execution_count": 46,
      "id": "clpmI4YOFGs1",
      "metadata": {
        "colab": {
          "base_uri": "https://localhost:8080/",
          "height": 423
        },
        "id": "clpmI4YOFGs1",
        "outputId": "5e696340-6af9-4c66-bf7b-4d21379554c3"
      },
      "outputs": [
        {
          "data": {
            "text/html": [
              "<div>\n",
              "<style scoped>\n",
              "    .dataframe tbody tr th:only-of-type {\n",
              "        vertical-align: middle;\n",
              "    }\n",
              "\n",
              "    .dataframe tbody tr th {\n",
              "        vertical-align: top;\n",
              "    }\n",
              "\n",
              "    .dataframe thead th {\n",
              "        text-align: right;\n",
              "    }\n",
              "</style>\n",
              "<table border=\"1\" class=\"dataframe\">\n",
              "  <thead>\n",
              "    <tr style=\"text-align: right;\">\n",
              "      <th></th>\n",
              "      <th>text</th>\n",
              "      <th>label</th>\n",
              "    </tr>\n",
              "  </thead>\n",
              "  <tbody>\n",
              "    <tr>\n",
              "      <th>0</th>\n",
              "      <td>i just feel realli helpless and heavi heart</td>\n",
              "      <td>4</td>\n",
              "    </tr>\n",
              "    <tr>\n",
              "      <th>1</th>\n",
              "      <td>ive enjoy be abl to slouch about relax and unw...</td>\n",
              "      <td>0</td>\n",
              "    </tr>\n",
              "    <tr>\n",
              "      <th>2</th>\n",
              "      <td>i gave up my internship with the dmrg and am f...</td>\n",
              "      <td>4</td>\n",
              "    </tr>\n",
              "    <tr>\n",
              "      <th>3</th>\n",
              "      <td>i dont know i feel so lost</td>\n",
              "      <td>0</td>\n",
              "    </tr>\n",
              "    <tr>\n",
              "      <th>4</th>\n",
              "      <td>i am a kindergarten teacher and i am thoroughl...</td>\n",
              "      <td>4</td>\n",
              "    </tr>\n",
              "    <tr>\n",
              "      <th>...</th>\n",
              "      <td>...</td>\n",
              "      <td>...</td>\n",
              "    </tr>\n",
              "    <tr>\n",
              "      <th>416804</th>\n",
              "      <td>i feel like tell these horni devil to find a s...</td>\n",
              "      <td>2</td>\n",
              "    </tr>\n",
              "    <tr>\n",
              "      <th>416805</th>\n",
              "      <td>i began to realiz that when i wa feel agit or ...</td>\n",
              "      <td>3</td>\n",
              "    </tr>\n",
              "    <tr>\n",
              "      <th>416806</th>\n",
              "      <td>i feel veri curiou be whi previou earli dawn i...</td>\n",
              "      <td>5</td>\n",
              "    </tr>\n",
              "    <tr>\n",
              "      <th>416807</th>\n",
              "      <td>i feel that becuas of the tyran natur of the g...</td>\n",
              "      <td>3</td>\n",
              "    </tr>\n",
              "    <tr>\n",
              "      <th>416808</th>\n",
              "      <td>i think that after i had spent some time inves...</td>\n",
              "      <td>5</td>\n",
              "    </tr>\n",
              "  </tbody>\n",
              "</table>\n",
              "<p>416809 rows × 2 columns</p>\n",
              "</div>"
            ],
            "text/plain": [
              "                                                     text  label\n",
              "0             i just feel realli helpless and heavi heart      4\n",
              "1       ive enjoy be abl to slouch about relax and unw...      0\n",
              "2       i gave up my internship with the dmrg and am f...      4\n",
              "3                              i dont know i feel so lost      0\n",
              "4       i am a kindergarten teacher and i am thoroughl...      4\n",
              "...                                                   ...    ...\n",
              "416804  i feel like tell these horni devil to find a s...      2\n",
              "416805  i began to realiz that when i wa feel agit or ...      3\n",
              "416806  i feel veri curiou be whi previou earli dawn i...      5\n",
              "416807  i feel that becuas of the tyran natur of the g...      3\n",
              "416808  i think that after i had spent some time inves...      5\n",
              "\n",
              "[416809 rows x 2 columns]"
            ]
          },
          "execution_count": 46,
          "metadata": {},
          "output_type": "execute_result"
        }
      ],
      "source": [
        "dataset"
      ]
    },
    {
      "cell_type": "markdown",
      "id": "56c0f077",
      "metadata": {},
      "source": [
        "**TFidf**"
      ]
    },
    {
      "cell_type": "code",
      "execution_count": 47,
      "id": "9kwZnLbDKpS7",
      "metadata": {
        "id": "9kwZnLbDKpS7"
      },
      "outputs": [],
      "source": [
        "from sklearn.feature_extraction.text import TfidfVectorizer\n",
        "from sklearn.model_selection import train_test_split\n",
        "from sklearn.linear_model import LogisticRegression\n",
        "from sklearn.metrics import classification_report\n",
        "\n",
        "x_train, x_test, y_train, y_test= train_test_split(\n",
        "    dataset['text'], dataset['label'], test_size=0.2, random_state=42\n",
        ")\n",
        "\n",
        "vectorizer = TfidfVectorizer(stop_words='english')\n",
        "x_train_tfidf = vectorizer.fit_transform(x_train)\n",
        "x_test_tfidf = vectorizer.transform(x_test)"
      ]
    },
    {
      "cell_type": "code",
      "execution_count": 48,
      "id": "_CMSTJ0ZLP1i",
      "metadata": {
        "colab": {
          "base_uri": "https://localhost:8080/"
        },
        "id": "_CMSTJ0ZLP1i",
        "outputId": "789b6e3f-0129-4422-e384-756c20b50a39"
      },
      "outputs": [
        {
          "name": "stdout",
          "output_type": "stream",
          "text": [
            "0.8735874859048487\n"
          ]
        }
      ],
      "source": [
        "from sklearn.linear_model import LogisticRegression\n",
        "from sklearn.metrics import accuracy_score\n",
        "lr_tfidf=LogisticRegression(max_iter=2000)\n",
        "lr_tfidf.fit(x_train_tfidf,y_train)\n",
        "\n",
        "y_pred=lr_tfidf.predict(x_test_tfidf)\n",
        "accuracy_lr_tfidf=accuracy_score(y_test,y_pred)\n",
        "print(accuracy_lr_tfidf)"
      ]
    },
    {
      "cell_type": "markdown",
      "id": "fe8352b4",
      "metadata": {},
      "source": [
        "**Word2Vec**"
      ]
    },
    {
      "cell_type": "code",
      "execution_count": 15,
      "id": "TTUtVLp9FH5g",
      "metadata": {
        "colab": {
          "base_uri": "https://localhost:8080/"
        },
        "id": "TTUtVLp9FH5g",
        "outputId": "5fe7674a-dc13-49e0-a9b7-49c10381b038"
      },
      "outputs": [
        {
          "name": "stderr",
          "output_type": "stream",
          "text": [
            "[nltk_data] Downloading package punkt_tab to\n",
            "[nltk_data]     C:\\Users\\ACER\\AppData\\Roaming\\nltk_data...\n",
            "[nltk_data]   Package punkt_tab is already up-to-date!\n"
          ]
        }
      ],
      "source": [
        "# Here we tokenize our text\n",
        "from nltk.tokenize import word_tokenize\n",
        "nltk.download('punkt_tab')\n",
        "dataset['text']=dataset['text'].apply(word_tokenize)"
      ]
    },
    {
      "cell_type": "code",
      "execution_count": 16,
      "id": "J_YQKdjYFmBH",
      "metadata": {
        "colab": {
          "base_uri": "https://localhost:8080/",
          "height": 423
        },
        "id": "J_YQKdjYFmBH",
        "outputId": "64a4014b-88f9-4f28-dde1-a9d82cabc71e"
      },
      "outputs": [
        {
          "data": {
            "text/html": [
              "<div>\n",
              "<style scoped>\n",
              "    .dataframe tbody tr th:only-of-type {\n",
              "        vertical-align: middle;\n",
              "    }\n",
              "\n",
              "    .dataframe tbody tr th {\n",
              "        vertical-align: top;\n",
              "    }\n",
              "\n",
              "    .dataframe thead th {\n",
              "        text-align: right;\n",
              "    }\n",
              "</style>\n",
              "<table border=\"1\" class=\"dataframe\">\n",
              "  <thead>\n",
              "    <tr style=\"text-align: right;\">\n",
              "      <th></th>\n",
              "      <th>text</th>\n",
              "      <th>label</th>\n",
              "    </tr>\n",
              "  </thead>\n",
              "  <tbody>\n",
              "    <tr>\n",
              "      <th>0</th>\n",
              "      <td>[i, just, feel, realli, helpless, and, heavi, ...</td>\n",
              "      <td>4</td>\n",
              "    </tr>\n",
              "    <tr>\n",
              "      <th>1</th>\n",
              "      <td>[ive, enjoy, be, abl, to, slouch, about, relax...</td>\n",
              "      <td>0</td>\n",
              "    </tr>\n",
              "    <tr>\n",
              "      <th>2</th>\n",
              "      <td>[i, gave, up, my, internship, with, the, dmrg,...</td>\n",
              "      <td>4</td>\n",
              "    </tr>\n",
              "    <tr>\n",
              "      <th>3</th>\n",
              "      <td>[i, dont, know, i, feel, so, lost]</td>\n",
              "      <td>0</td>\n",
              "    </tr>\n",
              "    <tr>\n",
              "      <th>4</th>\n",
              "      <td>[i, am, a, kindergarten, teacher, and, i, am, ...</td>\n",
              "      <td>4</td>\n",
              "    </tr>\n",
              "    <tr>\n",
              "      <th>...</th>\n",
              "      <td>...</td>\n",
              "      <td>...</td>\n",
              "    </tr>\n",
              "    <tr>\n",
              "      <th>416804</th>\n",
              "      <td>[i, feel, like, tell, these, horni, devil, to,...</td>\n",
              "      <td>2</td>\n",
              "    </tr>\n",
              "    <tr>\n",
              "      <th>416805</th>\n",
              "      <td>[i, began, to, realiz, that, when, i, wa, feel...</td>\n",
              "      <td>3</td>\n",
              "    </tr>\n",
              "    <tr>\n",
              "      <th>416806</th>\n",
              "      <td>[i, feel, veri, curiou, be, whi, previou, earl...</td>\n",
              "      <td>5</td>\n",
              "    </tr>\n",
              "    <tr>\n",
              "      <th>416807</th>\n",
              "      <td>[i, feel, that, becuas, of, the, tyran, natur,...</td>\n",
              "      <td>3</td>\n",
              "    </tr>\n",
              "    <tr>\n",
              "      <th>416808</th>\n",
              "      <td>[i, think, that, after, i, had, spent, some, t...</td>\n",
              "      <td>5</td>\n",
              "    </tr>\n",
              "  </tbody>\n",
              "</table>\n",
              "<p>416809 rows × 2 columns</p>\n",
              "</div>"
            ],
            "text/plain": [
              "                                                     text  label\n",
              "0       [i, just, feel, realli, helpless, and, heavi, ...      4\n",
              "1       [ive, enjoy, be, abl, to, slouch, about, relax...      0\n",
              "2       [i, gave, up, my, internship, with, the, dmrg,...      4\n",
              "3                      [i, dont, know, i, feel, so, lost]      0\n",
              "4       [i, am, a, kindergarten, teacher, and, i, am, ...      4\n",
              "...                                                   ...    ...\n",
              "416804  [i, feel, like, tell, these, horni, devil, to,...      2\n",
              "416805  [i, began, to, realiz, that, when, i, wa, feel...      3\n",
              "416806  [i, feel, veri, curiou, be, whi, previou, earl...      5\n",
              "416807  [i, feel, that, becuas, of, the, tyran, natur,...      3\n",
              "416808  [i, think, that, after, i, had, spent, some, t...      5\n",
              "\n",
              "[416809 rows x 2 columns]"
            ]
          },
          "execution_count": 16,
          "metadata": {},
          "output_type": "execute_result"
        }
      ],
      "source": [
        "dataset"
      ]
    },
    {
      "cell_type": "code",
      "execution_count": 17,
      "id": "KeAkxX0tFv21",
      "metadata": {
        "id": "KeAkxX0tFv21"
      },
      "outputs": [],
      "source": [
        "# Here we convert our text into Dense Vector by Word2Vec technique\n",
        "from gensim.models import Word2Vec\n",
        "model = Word2Vec(sentences=dataset['text'], vector_size=100, window=5, min_count=1, workers=4)\n"
      ]
    },
    {
      "cell_type": "code",
      "execution_count": 18,
      "id": "kPBd7eS0IEHt",
      "metadata": {
        "id": "kPBd7eS0IEHt"
      },
      "outputs": [],
      "source": [
        "# Here we find the average of vectors\n",
        "def sentence_vector(words, model):\n",
        "    # Only keep words that exist in model vocab\n",
        "    word_vectors = [model.wv[word] for word in words if word in model.wv]\n",
        "    if len(word_vectors) == 0:\n",
        "        return np.zeros(model.vector_size)\n",
        "    return np.mean(word_vectors, axis=0)\n",
        "\n",
        "dataset['vector'] = dataset['text'].apply(lambda x: sentence_vector(x, model))\n"
      ]
    },
    {
      "cell_type": "code",
      "execution_count": 19,
      "id": "bLyMJOItIcGj",
      "metadata": {
        "colab": {
          "base_uri": "https://localhost:8080/",
          "height": 423
        },
        "id": "bLyMJOItIcGj",
        "outputId": "0a60737f-7de2-478a-c876-611f73fe2a27"
      },
      "outputs": [
        {
          "data": {
            "text/html": [
              "<div>\n",
              "<style scoped>\n",
              "    .dataframe tbody tr th:only-of-type {\n",
              "        vertical-align: middle;\n",
              "    }\n",
              "\n",
              "    .dataframe tbody tr th {\n",
              "        vertical-align: top;\n",
              "    }\n",
              "\n",
              "    .dataframe thead th {\n",
              "        text-align: right;\n",
              "    }\n",
              "</style>\n",
              "<table border=\"1\" class=\"dataframe\">\n",
              "  <thead>\n",
              "    <tr style=\"text-align: right;\">\n",
              "      <th></th>\n",
              "      <th>text</th>\n",
              "      <th>label</th>\n",
              "      <th>vector</th>\n",
              "    </tr>\n",
              "  </thead>\n",
              "  <tbody>\n",
              "    <tr>\n",
              "      <th>0</th>\n",
              "      <td>[i, just, feel, realli, helpless, and, heavi, ...</td>\n",
              "      <td>4</td>\n",
              "      <td>[0.6494968, 0.06028536, -0.5887667, -0.0268500...</td>\n",
              "    </tr>\n",
              "    <tr>\n",
              "      <th>1</th>\n",
              "      <td>[ive, enjoy, be, abl, to, slouch, about, relax...</td>\n",
              "      <td>0</td>\n",
              "      <td>[0.08854502, -0.13225561, -0.16946371, -0.3908...</td>\n",
              "    </tr>\n",
              "    <tr>\n",
              "      <th>2</th>\n",
              "      <td>[i, gave, up, my, internship, with, the, dmrg,...</td>\n",
              "      <td>4</td>\n",
              "      <td>[0.2870616, 0.10906085, -0.050448354, -0.16801...</td>\n",
              "    </tr>\n",
              "    <tr>\n",
              "      <th>3</th>\n",
              "      <td>[i, dont, know, i, feel, so, lost]</td>\n",
              "      <td>0</td>\n",
              "      <td>[0.2361146, -0.31551522, -0.70028865, 0.349299...</td>\n",
              "    </tr>\n",
              "    <tr>\n",
              "      <th>4</th>\n",
              "      <td>[i, am, a, kindergarten, teacher, and, i, am, ...</td>\n",
              "      <td>4</td>\n",
              "      <td>[0.11820791, -0.099037394, -0.019013226, 0.188...</td>\n",
              "    </tr>\n",
              "    <tr>\n",
              "      <th>...</th>\n",
              "      <td>...</td>\n",
              "      <td>...</td>\n",
              "      <td>...</td>\n",
              "    </tr>\n",
              "    <tr>\n",
              "      <th>416804</th>\n",
              "      <td>[i, feel, like, tell, these, horni, devil, to,...</td>\n",
              "      <td>2</td>\n",
              "      <td>[0.261473, -0.43588337, -0.47987348, -0.606215...</td>\n",
              "    </tr>\n",
              "    <tr>\n",
              "      <th>416805</th>\n",
              "      <td>[i, began, to, realiz, that, when, i, wa, feel...</td>\n",
              "      <td>3</td>\n",
              "      <td>[0.14168677, -0.18397643, -0.47203425, -0.1903...</td>\n",
              "    </tr>\n",
              "    <tr>\n",
              "      <th>416806</th>\n",
              "      <td>[i, feel, veri, curiou, be, whi, previou, earl...</td>\n",
              "      <td>5</td>\n",
              "      <td>[-0.079134695, 0.19806477, -0.9758066, -0.3512...</td>\n",
              "    </tr>\n",
              "    <tr>\n",
              "      <th>416807</th>\n",
              "      <td>[i, feel, that, becuas, of, the, tyran, natur,...</td>\n",
              "      <td>3</td>\n",
              "      <td>[0.041908115, -0.37603053, -0.21473238, -0.522...</td>\n",
              "    </tr>\n",
              "    <tr>\n",
              "      <th>416808</th>\n",
              "      <td>[i, think, that, after, i, had, spent, some, t...</td>\n",
              "      <td>5</td>\n",
              "      <td>[0.053017788, 0.20395172, -0.53159827, -0.3496...</td>\n",
              "    </tr>\n",
              "  </tbody>\n",
              "</table>\n",
              "<p>416809 rows × 3 columns</p>\n",
              "</div>"
            ],
            "text/plain": [
              "                                                     text  label  \\\n",
              "0       [i, just, feel, realli, helpless, and, heavi, ...      4   \n",
              "1       [ive, enjoy, be, abl, to, slouch, about, relax...      0   \n",
              "2       [i, gave, up, my, internship, with, the, dmrg,...      4   \n",
              "3                      [i, dont, know, i, feel, so, lost]      0   \n",
              "4       [i, am, a, kindergarten, teacher, and, i, am, ...      4   \n",
              "...                                                   ...    ...   \n",
              "416804  [i, feel, like, tell, these, horni, devil, to,...      2   \n",
              "416805  [i, began, to, realiz, that, when, i, wa, feel...      3   \n",
              "416806  [i, feel, veri, curiou, be, whi, previou, earl...      5   \n",
              "416807  [i, feel, that, becuas, of, the, tyran, natur,...      3   \n",
              "416808  [i, think, that, after, i, had, spent, some, t...      5   \n",
              "\n",
              "                                                   vector  \n",
              "0       [0.6494968, 0.06028536, -0.5887667, -0.0268500...  \n",
              "1       [0.08854502, -0.13225561, -0.16946371, -0.3908...  \n",
              "2       [0.2870616, 0.10906085, -0.050448354, -0.16801...  \n",
              "3       [0.2361146, -0.31551522, -0.70028865, 0.349299...  \n",
              "4       [0.11820791, -0.099037394, -0.019013226, 0.188...  \n",
              "...                                                   ...  \n",
              "416804  [0.261473, -0.43588337, -0.47987348, -0.606215...  \n",
              "416805  [0.14168677, -0.18397643, -0.47203425, -0.1903...  \n",
              "416806  [-0.079134695, 0.19806477, -0.9758066, -0.3512...  \n",
              "416807  [0.041908115, -0.37603053, -0.21473238, -0.522...  \n",
              "416808  [0.053017788, 0.20395172, -0.53159827, -0.3496...  \n",
              "\n",
              "[416809 rows x 3 columns]"
            ]
          },
          "execution_count": 19,
          "metadata": {},
          "output_type": "execute_result"
        }
      ],
      "source": [
        "dataset"
      ]
    },
    {
      "cell_type": "code",
      "execution_count": 20,
      "id": "i6TwhbIHJAlV",
      "metadata": {
        "colab": {
          "base_uri": "https://localhost:8080/",
          "height": 547
        },
        "id": "i6TwhbIHJAlV",
        "outputId": "02633f49-ed58-427f-c1ec-3416bfc2fbd8"
      },
      "outputs": [],
      "source": [
        "y=dataset['label']\n",
        "# vstack in numpy is used to combine the two or more tuples or list of array vertically\n",
        "# vstack in pandas is used to combine two or more dataframes vertically or horizontally\n",
        "x= np.vstack(dataset['vector'].values)"
      ]
    },
    {
      "cell_type": "code",
      "execution_count": 21,
      "id": "KPK7Kw8mKGxJ",
      "metadata": {
        "colab": {
          "base_uri": "https://localhost:8080/"
        },
        "id": "KPK7Kw8mKGxJ",
        "outputId": "20b4fab7-924b-4570-9db1-2230547eb6da"
      },
      "outputs": [
        {
          "data": {
            "text/plain": [
              "0"
            ]
          },
          "execution_count": 21,
          "metadata": {},
          "output_type": "execute_result"
        }
      ],
      "source": [
        "y.dropna(inplace=True)\n",
        "y.isnull().sum()"
      ]
    },
    {
      "cell_type": "code",
      "execution_count": 22,
      "id": "86Ej3W6TIrgk",
      "metadata": {
        "colab": {
          "base_uri": "https://localhost:8080/",
          "height": 158
        },
        "id": "86Ej3W6TIrgk",
        "outputId": "e72bbb6f-857d-4ae3-a1ab-310f643c4054"
      },
      "outputs": [],
      "source": [
        "from sklearn.model_selection import train_test_split\n",
        "x_train,x_test,y_train,y_test=train_test_split(x,y,random_state=42,test_size=0.2)\n"
      ]
    },
    {
      "cell_type": "code",
      "execution_count": 23,
      "id": "S9KfauflJtGT",
      "metadata": {
        "colab": {
          "base_uri": "https://localhost:8080/"
        },
        "id": "S9KfauflJtGT",
        "outputId": "1784c84f-44f2-4dd0-859f-803c51155ab9"
      },
      "outputs": [
        {
          "name": "stdout",
          "output_type": "stream",
          "text": [
            "0.6242532568796334\n"
          ]
        }
      ],
      "source": [
        "from sklearn.linear_model import LogisticRegression\n",
        "from sklearn.metrics import accuracy_score\n",
        "lr=LogisticRegression(max_iter=2000)\n",
        "lr.fit(x_train,y_train)\n",
        "\n",
        "y_pred=lr.predict(x_test)\n",
        "accuracy_lr=accuracy_score(y_test,y_pred)\n",
        "print(accuracy_lr)\n"
      ]
    },
    {
      "cell_type": "code",
      "execution_count": 26,
      "id": "e89cd589",
      "metadata": {},
      "outputs": [],
      "source": [
        "x_train_lstm,x_test_lstm,y_train_lstm,y_test_lstm=train_test_split(dataset['text'],dataset['label'],test_size=0.2,random_state=42)"
      ]
    },
    {
      "cell_type": "code",
      "execution_count": 33,
      "id": "7Cur7Q4RRq9E",
      "metadata": {
        "colab": {
          "base_uri": "https://localhost:8080/",
          "height": 211
        },
        "id": "7Cur7Q4RRq9E",
        "outputId": "9e18b32c-b04b-44dd-8ead-190fd4bca4c5"
      },
      "outputs": [
        {
          "data": {
            "text/html": [
              "<pre style=\"white-space:pre;overflow-x:auto;line-height:normal;font-family:Menlo,'DejaVu Sans Mono',consolas,'Courier New',monospace\"><span style=\"font-weight: bold\">Model: \"sequential_5\"</span>\n",
              "</pre>\n"
            ],
            "text/plain": [
              "\u001b[1mModel: \"sequential_5\"\u001b[0m\n"
            ]
          },
          "metadata": {},
          "output_type": "display_data"
        },
        {
          "data": {
            "text/html": [
              "<pre style=\"white-space:pre;overflow-x:auto;line-height:normal;font-family:Menlo,'DejaVu Sans Mono',consolas,'Courier New',monospace\">┏━━━━━━━━━━━━━━━━━━━━━━━━━━━━━━━━━┳━━━━━━━━━━━━━━━━━━━━━━━━┳━━━━━━━━━━━━━━━┓\n",
              "┃<span style=\"font-weight: bold\"> Layer (type)                    </span>┃<span style=\"font-weight: bold\"> Output Shape           </span>┃<span style=\"font-weight: bold\">       Param # </span>┃\n",
              "┡━━━━━━━━━━━━━━━━━━━━━━━━━━━━━━━━━╇━━━━━━━━━━━━━━━━━━━━━━━━╇━━━━━━━━━━━━━━━┩\n",
              "│ embedding_5 (<span style=\"color: #0087ff; text-decoration-color: #0087ff\">Embedding</span>)         │ ?                      │   <span style=\"color: #00af00; text-decoration-color: #00af00\">0</span> (unbuilt) │\n",
              "├─────────────────────────────────┼────────────────────────┼───────────────┤\n",
              "│ conv1d_5 (<span style=\"color: #0087ff; text-decoration-color: #0087ff\">Conv1D</span>)               │ ?                      │   <span style=\"color: #00af00; text-decoration-color: #00af00\">0</span> (unbuilt) │\n",
              "├─────────────────────────────────┼────────────────────────┼───────────────┤\n",
              "│ max_pooling1d_5 (<span style=\"color: #0087ff; text-decoration-color: #0087ff\">MaxPooling1D</span>)  │ ?                      │             <span style=\"color: #00af00; text-decoration-color: #00af00\">0</span> │\n",
              "├─────────────────────────────────┼────────────────────────┼───────────────┤\n",
              "│ lstm_5 (<span style=\"color: #0087ff; text-decoration-color: #0087ff\">LSTM</span>)                   │ ?                      │   <span style=\"color: #00af00; text-decoration-color: #00af00\">0</span> (unbuilt) │\n",
              "├─────────────────────────────────┼────────────────────────┼───────────────┤\n",
              "│ dense_5 (<span style=\"color: #0087ff; text-decoration-color: #0087ff\">Dense</span>)                 │ ?                      │   <span style=\"color: #00af00; text-decoration-color: #00af00\">0</span> (unbuilt) │\n",
              "└─────────────────────────────────┴────────────────────────┴───────────────┘\n",
              "</pre>\n"
            ],
            "text/plain": [
              "┏━━━━━━━━━━━━━━━━━━━━━━━━━━━━━━━━━┳━━━━━━━━━━━━━━━━━━━━━━━━┳━━━━━━━━━━━━━━━┓\n",
              "┃\u001b[1m \u001b[0m\u001b[1mLayer (type)                   \u001b[0m\u001b[1m \u001b[0m┃\u001b[1m \u001b[0m\u001b[1mOutput Shape          \u001b[0m\u001b[1m \u001b[0m┃\u001b[1m \u001b[0m\u001b[1m      Param #\u001b[0m\u001b[1m \u001b[0m┃\n",
              "┡━━━━━━━━━━━━━━━━━━━━━━━━━━━━━━━━━╇━━━━━━━━━━━━━━━━━━━━━━━━╇━━━━━━━━━━━━━━━┩\n",
              "│ embedding_5 (\u001b[38;5;33mEmbedding\u001b[0m)         │ ?                      │   \u001b[38;5;34m0\u001b[0m (unbuilt) │\n",
              "├─────────────────────────────────┼────────────────────────┼───────────────┤\n",
              "│ conv1d_5 (\u001b[38;5;33mConv1D\u001b[0m)               │ ?                      │   \u001b[38;5;34m0\u001b[0m (unbuilt) │\n",
              "├─────────────────────────────────┼────────────────────────┼───────────────┤\n",
              "│ max_pooling1d_5 (\u001b[38;5;33mMaxPooling1D\u001b[0m)  │ ?                      │             \u001b[38;5;34m0\u001b[0m │\n",
              "├─────────────────────────────────┼────────────────────────┼───────────────┤\n",
              "│ lstm_5 (\u001b[38;5;33mLSTM\u001b[0m)                   │ ?                      │   \u001b[38;5;34m0\u001b[0m (unbuilt) │\n",
              "├─────────────────────────────────┼────────────────────────┼───────────────┤\n",
              "│ dense_5 (\u001b[38;5;33mDense\u001b[0m)                 │ ?                      │   \u001b[38;5;34m0\u001b[0m (unbuilt) │\n",
              "└─────────────────────────────────┴────────────────────────┴───────────────┘\n"
            ]
          },
          "metadata": {},
          "output_type": "display_data"
        },
        {
          "data": {
            "text/html": [
              "<pre style=\"white-space:pre;overflow-x:auto;line-height:normal;font-family:Menlo,'DejaVu Sans Mono',consolas,'Courier New',monospace\"><span style=\"font-weight: bold\"> Total params: </span><span style=\"color: #00af00; text-decoration-color: #00af00\">0</span> (0.00 B)\n",
              "</pre>\n"
            ],
            "text/plain": [
              "\u001b[1m Total params: \u001b[0m\u001b[38;5;34m0\u001b[0m (0.00 B)\n"
            ]
          },
          "metadata": {},
          "output_type": "display_data"
        },
        {
          "data": {
            "text/html": [
              "<pre style=\"white-space:pre;overflow-x:auto;line-height:normal;font-family:Menlo,'DejaVu Sans Mono',consolas,'Courier New',monospace\"><span style=\"font-weight: bold\"> Trainable params: </span><span style=\"color: #00af00; text-decoration-color: #00af00\">0</span> (0.00 B)\n",
              "</pre>\n"
            ],
            "text/plain": [
              "\u001b[1m Trainable params: \u001b[0m\u001b[38;5;34m0\u001b[0m (0.00 B)\n"
            ]
          },
          "metadata": {},
          "output_type": "display_data"
        },
        {
          "data": {
            "text/html": [
              "<pre style=\"white-space:pre;overflow-x:auto;line-height:normal;font-family:Menlo,'DejaVu Sans Mono',consolas,'Courier New',monospace\"><span style=\"font-weight: bold\"> Non-trainable params: </span><span style=\"color: #00af00; text-decoration-color: #00af00\">0</span> (0.00 B)\n",
              "</pre>\n"
            ],
            "text/plain": [
              "\u001b[1m Non-trainable params: \u001b[0m\u001b[38;5;34m0\u001b[0m (0.00 B)\n"
            ]
          },
          "metadata": {},
          "output_type": "display_data"
        },
        {
          "name": "stdout",
          "output_type": "stream",
          "text": [
            "Epoch 1/5\n",
            "\u001b[1m10421/10421\u001b[0m \u001b[32m━━━━━━━━━━━━━━━━━━━━\u001b[0m\u001b[37m\u001b[0m \u001b[1m1362s\u001b[0m 130ms/step - accuracy: 0.8542 - loss: 0.3485 - val_accuracy: 0.9253 - val_loss: 0.1321\n",
            "Epoch 2/5\n",
            "\u001b[1m10421/10421\u001b[0m \u001b[32m━━━━━━━━━━━━━━━━━━━━\u001b[0m\u001b[37m\u001b[0m \u001b[1m1308s\u001b[0m 125ms/step - accuracy: 0.9291 - loss: 0.1270 - val_accuracy: 0.9277 - val_loss: 0.1268\n",
            "Epoch 3/5\n",
            "\u001b[1m10421/10421\u001b[0m \u001b[32m━━━━━━━━━━━━━━━━━━━━\u001b[0m\u001b[37m\u001b[0m \u001b[1m652s\u001b[0m 63ms/step - accuracy: 0.9333 - loss: 0.1143 - val_accuracy: 0.9275 - val_loss: 0.1267\n",
            "Epoch 4/5\n",
            "\u001b[1m10421/10421\u001b[0m \u001b[32m━━━━━━━━━━━━━━━━━━━━\u001b[0m\u001b[37m\u001b[0m \u001b[1m668s\u001b[0m 64ms/step - accuracy: 0.9374 - loss: 0.1047 - val_accuracy: 0.9276 - val_loss: 0.1286\n",
            "Epoch 5/5\n",
            "\u001b[1m10421/10421\u001b[0m \u001b[32m━━━━━━━━━━━━━━━━━━━━\u001b[0m\u001b[37m\u001b[0m \u001b[1m724s\u001b[0m 69ms/step - accuracy: 0.9395 - loss: 0.0981 - val_accuracy: 0.9274 - val_loss: 0.1303\n"
          ]
        },
        {
          "data": {
            "text/plain": [
              "<keras.src.callbacks.history.History at 0x26119cd9dc0>"
            ]
          },
          "execution_count": 33,
          "metadata": {},
          "output_type": "execute_result"
        }
      ],
      "source": [
        "from tensorflow.keras.preprocessing.text import Tokenizer\n",
        "from tensorflow.keras.preprocessing.sequence import pad_sequences\n",
        "from tensorflow.keras.models import Sequential\n",
        "from tensorflow.keras.layers import Embedding, Conv1D, MaxPooling1D, LSTM, Dense\n",
        "\n",
        "# Your data\n",
        "tokenizer = Tokenizer(num_words=20000)\n",
        "tokenizer.fit_on_texts(x_train_lstm)\n",
        "x_train_seq = pad_sequences(tokenizer.texts_to_sequences(x_train_lstm), maxlen=200)\n",
        "x_test_seq  = pad_sequences(tokenizer.texts_to_sequences(x_test_lstm),  maxlen=200)\n",
        "\n",
        "model = Sequential([\n",
        "    Embedding(20000, 100, input_length=200),\n",
        "    Conv1D(128, 5, activation='relu', padding='same'),\n",
        "    MaxPooling1D(pool_size=2),\n",
        "    LSTM(64),\n",
        "    Dense(6, activation='softmax')\n",
        "])\n",
        "\n",
        "model.compile(optimizer='adam', loss='sparse_categorical_crossentropy', metrics=['accuracy'])\n",
        "model.summary()\n",
        "model.fit(x_train_seq, y_train, validation_data=(x_test_seq, y_test), epochs=5, batch_size=32)\n"
      ]
    },
    {
      "cell_type": "code",
      "execution_count": 34,
      "id": "XAiPnkUCExd8",
      "metadata": {
        "id": "XAiPnkUCExd8"
      },
      "outputs": [
        {
          "name": "stderr",
          "output_type": "stream",
          "text": [
            "WARNING:absl:You are saving your model as an HDF5 file via `model.save()` or `keras.saving.save_model(model)`. This file format is considered legacy. We recommend using instead the native Keras format, e.g. `model.save('my_model.keras')` or `keras.saving.save_model(model, 'my_model.keras')`. \n"
          ]
        }
      ],
      "source": [
        "from tensorflow.keras.models import load_model\n",
        "model.save('emotion_classifier.h5')"
      ]
    },
    {
      "cell_type": "code",
      "execution_count": 36,
      "id": "94513d3d",
      "metadata": {},
      "outputs": [],
      "source": [
        "import pickle\n",
        "with open(\"emotion_tokenizer.pkl\", \"wb\") as f:\n",
        "    pickle.dump(tokenizer, f)"
      ]
    },
    {
      "cell_type": "code",
      "execution_count": 49,
      "id": "2b83caea",
      "metadata": {},
      "outputs": [
        {
          "data": {
            "text/plain": [
              "['lr_tfidf_model.pkl']"
            ]
          },
          "execution_count": 49,
          "metadata": {},
          "output_type": "execute_result"
        }
      ],
      "source": [
        "import joblib\n",
        "joblib.dump(lr_tfidf,'lr_tfidf_model.pkl')"
      ]
    },
    {
      "cell_type": "code",
      "execution_count": null,
      "id": "56fe2344",
      "metadata": {},
      "outputs": [],
      "source": []
    }
  ],
  "metadata": {
    "accelerator": "GPU",
    "colab": {
      "gpuType": "T4",
      "provenance": []
    },
    "kernelspec": {
      "display_name": "venv2",
      "language": "python",
      "name": "python3"
    },
    "language_info": {
      "codemirror_mode": {
        "name": "ipython",
        "version": 3
      },
      "file_extension": ".py",
      "mimetype": "text/x-python",
      "name": "python",
      "nbconvert_exporter": "python",
      "pygments_lexer": "ipython3",
      "version": "3.9.16"
    }
  },
  "nbformat": 4,
  "nbformat_minor": 5
}
